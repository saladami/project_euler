{
 "cells": [
  {
   "cell_type": "markdown",
   "metadata": {},
   "source": [
    "Find a Pythagorean Triple a,b,c such that a + b + c = 1000\n",
    "\n",
    "https://projecteuler.net/problem=9"
   ]
  },
  {
   "cell_type": "code",
   "execution_count": 2,
   "metadata": {},
   "outputs": [],
   "source": [
    "s = 1\n",
    "t = 2"
   ]
  },
  {
   "cell_type": "markdown",
   "metadata": {},
   "source": [
    "The basic recipe for generating (reduced) pythagorean triples based on two integers s and t\n",
    "* s is always less than t\n",
    "* s and t are not both even or both odd\n",
    "\n",
    "Our approach is to increment s, and increment t until these conditions are met, then get the values for a b and c"
   ]
  },
  {
   "cell_type": "code",
   "execution_count": 4,
   "metadata": {},
   "outputs": [],
   "source": [
    "#this should give us the first pythagorean triple\n",
    "a = t ** 2 - s ** 2\n",
    "b = 2*s*t\n",
    "c = s ** 2 + t ** 2"
   ]
  },
  {
   "cell_type": "code",
   "execution_count": 5,
   "metadata": {},
   "outputs": [
    {
     "name": "stdout",
     "output_type": "stream",
     "text": [
      "3 4 5\n"
     ]
    }
   ],
   "source": [
    "print(a,b,c)"
   ]
  },
  {
   "cell_type": "code",
   "execution_count": 6,
   "metadata": {},
   "outputs": [],
   "source": [
    "triples = []\n",
    "\n",
    "for s in range(1,10):\n",
    "    for t in range(2,10):\n",
    "        if t <= s:\n",
    "            continue\n",
    "        if t%2 == s%2:\n",
    "            continue\n",
    "            \n",
    "        a = t ** 2 - s ** 2\n",
    "        b = 2*s*t\n",
    "        c = s ** 2 + t ** 2\n",
    "        foo = [a,b,c]\n",
    "        foo.sort()\n",
    "        triples.append(foo)\n",
    "        \n",
    "                "
   ]
  },
  {
   "cell_type": "code",
   "execution_count": 7,
   "metadata": {},
   "outputs": [
    {
     "name": "stdout",
     "output_type": "stream",
     "text": [
      "[[3, 4, 5], [8, 15, 17], [12, 35, 37], [16, 63, 65], [5, 12, 13], [20, 21, 29], [28, 45, 53], [36, 77, 85], [7, 24, 25], [27, 36, 45], [48, 55, 73], [9, 40, 41], [33, 56, 65], [65, 72, 97], [11, 60, 61], [39, 80, 89], [13, 84, 85], [45, 108, 117], [15, 112, 113], [17, 144, 145]]\n"
     ]
    }
   ],
   "source": [
    "print(triples)\n"
   ]
  },
  {
   "cell_type": "code",
   "execution_count": 12,
   "metadata": {
    "collapsed": true
   },
   "outputs": [],
   "source": [
    "triples.sort()"
   ]
  },
  {
   "cell_type": "code",
   "execution_count": 13,
   "metadata": {},
   "outputs": [
    {
     "name": "stdout",
     "output_type": "stream",
     "text": [
      "[[3, 4, 5], [5, 12, 13], [7, 24, 25], [8, 15, 17], [9, 40, 41], [11, 60, 61], [12, 35, 37], [13, 84, 85], [15, 112, 113], [16, 63, 65], [17, 144, 145], [20, 21, 29], [27, 36, 45], [28, 45, 53], [33, 56, 65], [36, 77, 85], [39, 80, 89], [45, 108, 117], [48, 55, 73], [65, 72, 97]]\n"
     ]
    }
   ],
   "source": [
    "print(triples)"
   ]
  },
  {
   "cell_type": "markdown",
   "metadata": {},
   "source": [
    "Note that none of these add up to 1000\n",
    "\n",
    "We are looking for a triple of the form d*a, d*b, d*c\n",
    "\n",
    "With d*a + d*b + d*c = 1000, or d(a + b + c) = 1000\n",
    "\n",
    "Therefore 1000 mod (a + b + c) == 0"
   ]
  },
  {
   "cell_type": "code",
   "execution_count": 8,
   "metadata": {},
   "outputs": [
    {
     "name": "stdout",
     "output_type": "stream",
     "text": [
      "[8, 15, 17]\n"
     ]
    }
   ],
   "source": [
    "for item in triples:\n",
    "    if 1000 % sum(item) == 0:\n",
    "        print(item)\n",
    "        "
   ]
  },
  {
   "cell_type": "code",
   "execution_count": 9,
   "metadata": {},
   "outputs": [
    {
     "name": "stdout",
     "output_type": "stream",
     "text": [
      "25\n"
     ]
    }
   ],
   "source": [
    "for c in range(2,100):\n",
    "    #print(\"{} : {}\".format(c, 8*c + 15*c + 17*c))\n",
    "    if (8*c + 15*c + 17*c) == 1000:\n",
    "        print(c)"
   ]
  },
  {
   "cell_type": "code",
   "execution_count": 10,
   "metadata": {},
   "outputs": [
    {
     "name": "stdout",
     "output_type": "stream",
     "text": [
      "200 375 425\n"
     ]
    }
   ],
   "source": [
    "print(25*8, 25*15, 25*17)"
   ]
  },
  {
   "cell_type": "code",
   "execution_count": 12,
   "metadata": {},
   "outputs": [
    {
     "name": "stdout",
     "output_type": "stream",
     "text": [
      "31875000\n"
     ]
    }
   ],
   "source": [
    "#And we're done. The problem asks for a*b*c which is \n",
    "print(200*375*425)"
   ]
  },
  {
   "cell_type": "code",
   "execution_count": null,
   "metadata": {},
   "outputs": [],
   "source": []
  }
 ],
 "metadata": {
  "kernelspec": {
   "display_name": "Python 3",
   "language": "python",
   "name": "python3"
  },
  "language_info": {
   "codemirror_mode": {
    "name": "ipython",
    "version": 3
   },
   "file_extension": ".py",
   "mimetype": "text/x-python",
   "name": "python",
   "nbconvert_exporter": "python",
   "pygments_lexer": "ipython3",
   "version": "3.6.4"
  }
 },
 "nbformat": 4,
 "nbformat_minor": 2
}
