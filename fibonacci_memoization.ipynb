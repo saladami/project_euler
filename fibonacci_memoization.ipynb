{
 "cells": [
  {
   "cell_type": "markdown",
   "metadata": {},
   "source": [
    "https://projecteuler.net/problem=2\n",
    "    \n",
    "    \n",
    "By considering the terms in the Fibonacci sequence whose values do not exceed four million, \n",
    "\n",
    "find the sum of the even-valued terms."
   ]
  },
  {
   "cell_type": "code",
   "execution_count": 17,
   "metadata": {},
   "outputs": [
    {
     "data": {
      "text/plain": [
       "176023680645013966468226945392411250770384383304492191886725992896575345044216019675"
      ]
     },
     "execution_count": 17,
     "metadata": {},
     "output_type": "execute_result"
    }
   ],
   "source": [
    "#dynamic programming approach to fibonacci sequence\n",
    "#cache already computed numbers to save on excessive recursion calls\n",
    "\n",
    "fib_numbers = [1,1,2,3,5,8,13]\n",
    "\n",
    "def fib(n): #returns the nth element of the fibonacci sequence\n",
    "    if n == 0:\n",
    "        return 0\n",
    "    if n <= len(fib_numbers):\n",
    "        return fib_numbers[n-1]\n",
    "    else:\n",
    "        new_fib = fib(n-1) + fib(n-2)\n",
    "        fib_numbers.append(new_fib)\n",
    "        return new_fib\n",
    "#testing        \n",
    "fib(400)"
   ]
  },
  {
   "cell_type": "code",
   "execution_count": 20,
   "metadata": {},
   "outputs": [
    {
     "name": "stdout",
     "output_type": "stream",
     "text": [
      "34 5702887\n"
     ]
    }
   ],
   "source": [
    "#to find the first term that exceeds 4 million\n",
    "for i in range(100):\n",
    "    if fib(i) > 4000000:\n",
    "        print(i, fib(i))\n",
    "        break"
   ]
  },
  {
   "cell_type": "code",
   "execution_count": 22,
   "metadata": {},
   "outputs": [
    {
     "name": "stdout",
     "output_type": "stream",
     "text": [
      "4613732\n"
     ]
    }
   ],
   "source": [
    "sum_of_even_fib_numbers = 0\n",
    "for i in range(34):\n",
    "    if fib(i)%2 == 0:\n",
    "        sum_of_even_fib_numbers += fib(i)\n",
    "print(sum_of_even_fib_numbers)\n",
    "\n"
   ]
  }
 ],
 "metadata": {
  "kernelspec": {
   "display_name": "Python 3",
   "language": "python",
   "name": "python3"
  },
  "language_info": {
   "codemirror_mode": {
    "name": "ipython",
    "version": 3
   },
   "file_extension": ".py",
   "mimetype": "text/x-python",
   "name": "python",
   "nbconvert_exporter": "python",
   "pygments_lexer": "ipython3",
   "version": "3.6.4"
  }
 },
 "nbformat": 4,
 "nbformat_minor": 2
}
